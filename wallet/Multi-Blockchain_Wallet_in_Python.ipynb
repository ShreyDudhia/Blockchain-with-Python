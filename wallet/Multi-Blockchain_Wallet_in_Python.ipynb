{
 "cells": [
  {
   "cell_type": "code",
   "execution_count": 2,
   "metadata": {},
   "outputs": [
    {
     "name": "stdout",
     "output_type": "stream",
     "text": [
      "{'ETH': [{'path': \"m/44'/60'/0'/0/0\", 'address': '0x16603EF5D7A2dc6479c1ecCC295A2aD6A3E8fCe3', 'privkey': '0x548ac9028731238b2ea865f691f1c00e1c135a526845aafe54eb39d69552857c', 'pubkey': '0293dcc55ecaf9a5369836915c7f61d569e560a3737c218da5d81e94359b8691d7'}, {'path': \"m/44'/60'/0'/0/1\", 'address': '0x88Ab453435e99f69bc60Ce619734EAE341887D7a', 'privkey': '0x7d48823410dee58e0002f04ddcf18f90251f23d4f7c5d747b7b3c4ec6765951d', 'pubkey': '03dea8a4fbe9770375481bd36544144b41cb6a2974dc767026aed4664b64f2db54'}, {'path': \"m/44'/60'/0'/0/2\", 'address': '0x2EF608639162a4303E9Af80D9119350b99aa725D', 'privkey': '0xf6a6d2a278e10f3cb46e88673f718b170d35d88651aef14722c398cbe6964e08', 'pubkey': '03419f4dd2aea89135f8ab8be078197b5cfd2d8c48d4156dad04ecabe9d058c175'}], 'BTC': [{'path': \"m/44'/0'/0'/0/0\", 'address': '1Lb54rvDHGGsfgt6yrwfoU1tEosuenyHky', 'privkey': 'L5fqteSAWGh2eRdUfp5SQWTBta1RevPP2sBqn2HAnifHSEgBJkCy', 'pubkey': '02a00f5ca3dd8ad4ace409b31db2e672beecbbed5dbd30d571967985b3f4515558'}, {'path': \"m/44'/0'/0'/0/1\", 'address': '1B1ARs8BJ8pbyKZhcgQERtVxUENugRu1WQ', 'privkey': 'Kz1VF9jSjXFmMfpuiwBhci6pRgc9UBdNeB9vXMvZkLjcuZcQ6p5d', 'pubkey': '02c9991a750fac2eab011cb8e2e0fe89e6255c43c31c0baefec65506412bd6fece'}, {'path': \"m/44'/0'/0'/0/2\", 'address': '1SmtPgocEACCiTcpxTA6cz3dgPB9NpFJz', 'privkey': 'Kzgxti8PvU3u1Q7oGCMShtdfSA22Z8NjVjrfJ3H77Hqz85ZTnCsF', 'pubkey': '032324f1c52632e6570979c18ceef1460cddc2e851971ce0d0e2db3990729781af'}]}\n",
      "<eth_account.signers.local.LocalAccount object at 0x7ffac141fe50>\n"
     ]
    }
   ],
   "source": [
    "import subprocess\n",
    "import json\n",
    "from web3 import Web3, middleware, Account\n",
    "from web3.gas_strategies.time_based import medium_gas_price_strategy\n",
    "from web3.middleware import geth_poa_middleware\n",
    "from constants import *\n",
    "w3 = Web3(Web3.HTTPProvider(\"http://localhost:8545\"))\n",
    "w3.middleware_onion.inject(geth_poa_middleware, layer=0)\n",
    "w3.eth.setGasPriceStrategy(medium_gas_price_strategy)\n",
    "\n",
    "def derive_wallets(Coin):\n",
    "    command = f'./derive -g --mnemonic=\"moon lamp awful list destroy winter repeat illness bronze danger where melt\" --cols=path,address,privkey,pubkey --format=json --coin={Coin} --numderive=3'\n",
    "    p = subprocess.Popen(command, stdout=subprocess.PIPE, shell=True)\n",
    "    output, err = p.communicate()\n",
    "    p_status = p.wait()\n",
    "\n",
    "    keys = json.loads(output)\n",
    "    return keys\n",
    "#account = Account.from_key(\"0x08fef16140389a137d92b24932c361162209ff2006d085c3c28144e3060030f4\")\n",
    "#ETH_key = priv_key_to_account(\"0x08fef16140389a137d92b24932c361162209ff2006d085c3c28144e3060030f4\", ETH)\n",
    "\n",
    "\n",
    "\n",
    "Coins = {\"ETH\":derive_wallets(\"eth\"), \"BTC\":derive_wallets(\"BTC\")}\n",
    "#print(Coins[\"ETH\"][0]['privkey'])\n",
    "print(Coins)\n",
    "\n",
    "def priv_key_to_account(priv_key, coin):\n",
    "    if coin  == \"eth\":\n",
    "        return Account.privateKeyToAccount(priv_key)\n",
    "    #if coin == BTCTEST:\n",
    "        #return PrivateKeyTestnet(priv_key)\n",
    "ETH_key = priv_key_to_account(\"548ac9028731238b2ea865f691f1c00e1c135a526845aafe54eb39d69552857c\", \"eth\")\n",
    "\n",
    "def create_tx(coin, account, to, amount):\n",
    "    if coin == \"eth\":\n",
    "        #  tx = txPrep.buildTransaction({'chainId': self.chainId,\n",
    "        #                               'gas': self.inchGas,\n",
    "        #                               '3gasPrice': gasPrice,\n",
    "                                      #'nonce': nonce})\n",
    "        #w3.eth.estimateGas(transaction={'to':contractAddress,\n",
    "            #from':address,\n",
    "            #value':int(msgValue),\n",
    "            #data':tx[\"data\"]})\n",
    "        value = w3.toWei(amount, \"ether\") # convert 1.2 ETH to 120000000000 wei\n",
    "        gasEstimate = w3.eth.estimateGas({ \"to\": to, \"from\": account.address, \"amount\": value })\n",
    "        return {\n",
    "            \"to\": to,\n",
    "            \"from\": account.address,\n",
    "            \"value\": value,\n",
    "            \"gas\": gasEstimate,\n",
    "            \"gasPrice\": 3000000, #w3.eth.generateGasPrice()\n",
    "            \"nonce\": w3.eth.getTransactionCount(account.address),\n",
    "            \"chainId\": 5777,#w3.net.chainId()\n",
    "        }\n",
    "        \n",
    "    #if coin == BTCTEST:\n",
    "      #  return PrivateKeyTestnet.prepare_transaction(account.address, [(to, amount, BTC)])\n",
    "\n",
    "\n",
    "def send_tx(coin, account, to, amount):\n",
    "    if coin == \"eth\":\n",
    "        raw_tx = create_tx(coin, account, to, amount)\n",
    "        signed = account.signTransaction(raw_tx)\n",
    "        return w3.eth.sendRawTransaction(signed.rawTransaction)\n",
    "    if coin == BTCTEST:\n",
    "        raw_tx = create_tx(coin, account, to, amount)\n",
    "        signed = account.sign_transaction(raw_tx)\n",
    "\n",
    "        return NetworkAPI.broadcast_tx_testnet(signed)\n",
    "reciept = send_tx(\"eth\", ETH_key, '0x16603EF5D7A2dc6479c1ecCC295A2aD6A3E8fCe3', 1)\n",
    "#print(reciept)\n",
    "#print(w3.eth.get_balance(account.address))\n",
    "print(ETH_key)       \n",
    "    \n",
    "    \n"
   ]
  },
  {
   "cell_type": "code",
   "execution_count": null,
   "metadata": {},
   "outputs": [],
   "source": []
  },
  {
   "cell_type": "code",
   "execution_count": null,
   "metadata": {},
   "outputs": [],
   "source": []
  }
 ],
 "metadata": {
  "kernelspec": {
   "display_name": "Python 3",
   "language": "python",
   "name": "python3"
  },
  "language_info": {
   "codemirror_mode": {
    "name": "ipython",
    "version": 3
   },
   "file_extension": ".py",
   "mimetype": "text/x-python",
   "name": "python",
   "nbconvert_exporter": "python",
   "pygments_lexer": "ipython3",
   "version": "3.8.3"
  }
 },
 "nbformat": 4,
 "nbformat_minor": 4
}
